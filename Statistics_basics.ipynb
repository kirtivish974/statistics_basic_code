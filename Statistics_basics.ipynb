{
  "nbformat": 4,
  "nbformat_minor": 0,
  "metadata": {
    "colab": {
      "provenance": []
    },
    "kernelspec": {
      "name": "python3",
      "display_name": "Python 3"
    },
    "language_info": {
      "name": "python"
    }
  },
  "cells": [
    {
      "cell_type": "markdown",
      "source": [
        "## Question 5: Implement a Python program to compute the mean, median, and mode of a given list of numbers.    \n",
        "##numbers = [12, 15, 12, 18, 19, 12, 20, 22, 19, 19, 24, 24, 24, 26, 28]\n"
      ],
      "metadata": {
        "id": "2VljKB67A4aI"
      }
    },
    {
      "cell_type": "code",
      "execution_count": 25,
      "metadata": {
        "id": "Ib8W4Sa2Awg-"
      },
      "outputs": [],
      "source": [
        "import numpy as np\n",
        "\n",
        "numbers = [12, 15, 12, 18, 19, 12, 20, 22, 19, 19, 24, 24, 24, 26, 28]"
      ]
    },
    {
      "cell_type": "code",
      "source": [
        "print(np.mean(numbers))"
      ],
      "metadata": {
        "colab": {
          "base_uri": "https://localhost:8080/"
        },
        "id": "QpXKZ-LNBUdt",
        "outputId": "131ce535-af18-4b9b-b6aa-0a792faeacf8"
      },
      "execution_count": 26,
      "outputs": [
        {
          "output_type": "stream",
          "name": "stdout",
          "text": [
            "19.6\n"
          ]
        }
      ]
    },
    {
      "cell_type": "code",
      "source": [
        "print(np.median(numbers))"
      ],
      "metadata": {
        "colab": {
          "base_uri": "https://localhost:8080/"
        },
        "id": "gZDpQ1brBagz",
        "outputId": "3128ba41-37a9-404b-c38d-4579279c45ff"
      },
      "execution_count": 27,
      "outputs": [
        {
          "output_type": "stream",
          "name": "stdout",
          "text": [
            "19.0\n"
          ]
        }
      ]
    },
    {
      "cell_type": "code",
      "source": [
        "import statistics\n",
        "statistics.mode(numbers)"
      ],
      "metadata": {
        "colab": {
          "base_uri": "https://localhost:8080/"
        },
        "id": "HJACztYBBeGi",
        "outputId": "3835b16b-2cfd-4117-c680-748b56080c46"
      },
      "execution_count": 28,
      "outputs": [
        {
          "output_type": "execute_result",
          "data": {
            "text/plain": [
              "12"
            ]
          },
          "metadata": {},
          "execution_count": 28
        }
      ]
    },
    {
      "cell_type": "markdown",
      "source": [
        "--------------------------------------------------------------------------------"
      ],
      "metadata": {
        "id": "dL4nafBhKbXH"
      }
    },
    {
      "cell_type": "markdown",
      "source": [
        "## Question 6: Compute the covariance and correlation coefficient between the following two datasets provided as lists in Python:\n",
        "\n",
        "##list_x = [10, 20, 30, 40, 50]\n",
        "##list_y = [15, 25, 35, 45, 60]"
      ],
      "metadata": {
        "id": "mae7TyPaB9S8"
      }
    },
    {
      "cell_type": "code",
      "source": [
        "list_x = [10, 20, 30, 40, 50]\n",
        "list_y = [15, 25, 35, 45, 60]"
      ],
      "metadata": {
        "id": "2UyIvTeVB7Bs"
      },
      "execution_count": 29,
      "outputs": []
    },
    {
      "cell_type": "code",
      "source": [
        "x = np.array(list_x)\n",
        "y = np.array(list_y)"
      ],
      "metadata": {
        "id": "q4iIg6WjCQFn"
      },
      "execution_count": 30,
      "outputs": []
    },
    {
      "cell_type": "code",
      "source": [
        "np.cov(x, y)"
      ],
      "metadata": {
        "colab": {
          "base_uri": "https://localhost:8080/"
        },
        "id": "C-J4fgCVDOjf",
        "outputId": "c144e309-7c08-4fe0-aab6-423ca66ae466"
      },
      "execution_count": 31,
      "outputs": [
        {
          "output_type": "execute_result",
          "data": {
            "text/plain": [
              "array([[250., 275.],\n",
              "       [275., 305.]])"
            ]
          },
          "metadata": {},
          "execution_count": 31
        }
      ]
    },
    {
      "cell_type": "code",
      "source": [
        "np.corrcoef(x, y)"
      ],
      "metadata": {
        "colab": {
          "base_uri": "https://localhost:8080/"
        },
        "id": "LurEdLMQDQ3_",
        "outputId": "0b48d440-7c78-4ed5-ebd3-892ad2a8de3e"
      },
      "execution_count": 32,
      "outputs": [
        {
          "output_type": "execute_result",
          "data": {
            "text/plain": [
              "array([[1.        , 0.99589321],\n",
              "       [0.99589321, 1.        ]])"
            ]
          },
          "metadata": {},
          "execution_count": 32
        }
      ]
    },
    {
      "cell_type": "markdown",
      "source": [
        "--------------------------------------------------------------------------------"
      ],
      "metadata": {
        "id": "NGtsQN26KY0u"
      }
    },
    {
      "cell_type": "markdown",
      "source": [
        "## Question 7: Write a Python script to draw a boxplot for the following numeric list and identify its outliers. Explain the result:\n",
        "##data = [12, 14, 14, 15, 18, 19, 19, 21, 22, 22, 23, 23, 24, 26, 29, 35]"
      ],
      "metadata": {
        "id": "FIECEqIDDcDz"
      }
    },
    {
      "cell_type": "code",
      "source": [
        "data = [12, 14, 14, 15, 18, 19, 19, 21, 22, 22, 23, 23, 24, 26, 29, 35]"
      ],
      "metadata": {
        "id": "e7rMb2BGDW6C"
      },
      "execution_count": 33,
      "outputs": []
    },
    {
      "cell_type": "code",
      "source": [
        "import seaborn as sns\n",
        "sns.boxplot(data)"
      ],
      "metadata": {
        "colab": {
          "base_uri": "https://localhost:8080/",
          "height": 429
        },
        "id": "NF8O8OaxDou-",
        "outputId": "e7ac7e7d-4917-4436-c634-d0a9398f27e6"
      },
      "execution_count": 34,
      "outputs": [
        {
          "output_type": "execute_result",
          "data": {
            "text/plain": [
              "<Axes: >"
            ]
          },
          "metadata": {},
          "execution_count": 34
        },
        {
          "output_type": "display_data",
          "data": {
            "text/plain": [
              "<Figure size 640x480 with 1 Axes>"
            ],
            "image/png": "[encoded data removed]"
          },
          "metadata": {}
        }
      ]
    },
    {
      "cell_type": "code",
      "source": [
        "Q = np.percentile(data, [25, 75])\n",
        "print(Q)"
      ],
      "metadata": {
        "colab": {
          "base_uri": "https://localhost:8080/"
        },
        "id": "95G-7hx0FTr6",
        "outputId": "a884bc24-3298-4211-e210-0dc02cbdda7b"
      },
      "execution_count": 35,
      "outputs": [
        {
          "output_type": "stream",
          "name": "stdout",
          "text": [
            "[17.25 23.25]\n"
          ]
        }
      ]
    },
    {
      "cell_type": "markdown",
      "source": [
        "##Outliers logic :\n",
        "\n",
        "###IQR = Q3 - Q1 = 23.25 - 17.25 = 6.0\n",
        "\n",
        "###Outlier < Q1 - 1.5 * 6 = 8.25\n",
        "###&\n",
        "###Outlier > Q3 + 1.5 * 6 = 32.25\n",
        "\n",
        "###Hence, any value < 8.25 or > 32.25 is labeled as outlier.\n",
        "\n",
        "###In this case, outlier is 35."
      ],
      "metadata": {
        "id": "sM1pZaMLEHUK"
      }
    },
    {
      "cell_type": "markdown",
      "source": [
        "###The dataset is fairly consistent, with most values clustered between 17.25 and 23.25, but 35 stands out as an upper outlier, lying well beyond the normal range (above 32.25).\n",
        "###It indicates one unusually high value compared to the rest."
      ],
      "metadata": {
        "id": "sckIqAbTHLeE"
      }
    },
    {
      "cell_type": "markdown",
      "source": [
        "--------------------------------------------------------------------------------"
      ],
      "metadata": {
        "id": "uMHeWT56KVah"
      }
    },
    {
      "cell_type": "markdown",
      "source": [
        "## Question 8: You are working as a data analyst in an e-commerce company.\n",
        "##The marketing team wants to know if there is a relationship between advertising spend and daily sales.\n",
        "##● Explain how you would use covariance and correlation to explore this relationship.\n",
        "##● Write Python code to compute the correlation between the two lists:\n",
        "\n",
        "##advertising_spend = [200, 250, 300, 400, 500]\n",
        "##daily_sales = [2200, 2450, 2750, 3200, 4000]\n"
      ],
      "metadata": {
        "id": "njYH9MViH74b"
      }
    },
    {
      "cell_type": "markdown",
      "source": [
        "--------------------------------------------------------------------------------"
      ],
      "metadata": {
        "id": "FzjxDCecKPBz"
      }
    },
    {
      "cell_type": "markdown",
      "source": [
        "### Covariance and correlation help measure how advertising spend and daily sales move together.\n",
        "\n",
        "###Covariance shows the direction of the relationship:\n",
        "###A negative covariance means higher ad spend is linked to lower sales. However, it doesn't show the strength of the relationship.\n",
        "\n",
        "####*   A positive covariance means higher ad spend tends to result in higher sales.\n",
        "####*   A negative covariance means higher ad spend is linked to lower sales. However, it doesn't show the strength of the relationship.\n",
        "\n",
        "###Correlation standardizes this relationship on a scale of -1 to +1:\n",
        "\n",
        "\n",
        "####*   +1 --> perfect positive relationship (sales rise as spend rises).\n",
        "####*   -1 --> perfect negative relationship (sales fall as spend rises).\n",
        "####*   0 --> no relationship.\n",
        "\n"
      ],
      "metadata": {
        "id": "t0G8_5loIkCQ"
      }
    },
    {
      "cell_type": "code",
      "source": [
        "advertising_spend = [200, 250, 300, 400, 500]\n",
        "daily_sales = [2200, 2450, 2750, 3200, 4000]\n",
        "\n",
        "print(np.corrcoef(advertising_spend, daily_sales))"
      ],
      "metadata": {
        "colab": {
          "base_uri": "https://localhost:8080/"
        },
        "id": "s5dn_6LXD1yK",
        "outputId": "f7da1208-ece6-48e1-c47c-a3d239fe46f6"
      },
      "execution_count": 36,
      "outputs": [
        {
          "output_type": "stream",
          "name": "stdout",
          "text": [
            "[[1.         0.99358241]\n",
            " [0.99358241 1.        ]]\n"
          ]
        }
      ]
    },
    {
      "cell_type": "markdown",
      "source": [
        "####Conclusion : as spending increases, sales rise almost proportionally."
      ],
      "metadata": {
        "id": "-1qyRpgqLbEf"
      }
    },
    {
      "cell_type": "markdown",
      "source": [
        "--------------------------------------------------------------------------------"
      ],
      "metadata": {
        "id": "u3fgdaMkLokw"
      }
    },
    {
      "cell_type": "markdown",
      "source": [
        "###Question 9: Your team has collected customer satisfaction survey data on a scale of 1-10 and wants to understand its distribution before launching a new product.\n",
        "###● Explain which summary statistics and visualizations (e.g. mean, standard deviation, histogram) you'd use.\n",
        "###● Write Python code to create a histogram using Matplotlib for the survey data:\n",
        "\n",
        "####survey_scores = [7, 8, 5, 9, 6, 7, 8, 9, 10, 4, 7, 6, 9, 8, 7]\n"
      ],
      "metadata": {
        "id": "kVqN7yIBLvJq"
      }
    },
    {
      "cell_type": "markdown",
      "source": [
        "--------------------------------------------------------------------------------"
      ],
      "metadata": {
        "id": "CerfygzzPTgz"
      }
    },
    {
      "cell_type": "markdown",
      "source": [
        "###For summary statistics, I will use Mode because it reveals the most common satisfaction rating and for visualizations I'll use Histogram because it displays how frequently each rating occurs, making it easy to spot clusters or skewness."
      ],
      "metadata": {
        "id": "_GpLuR80PYBA"
      }
    },
    {
      "cell_type": "code",
      "source": [
        "import matplotlib.pyplot as plt\n",
        "\n",
        "survey_scores = [7, 8, 5, 9, 6, 7, 8, 9, 10, 4, 7, 6, 9, 8, 7]"
      ],
      "metadata": {
        "id": "NElhd4meK95k"
      },
      "execution_count": 37,
      "outputs": []
    },
    {
      "cell_type": "code",
      "source": [
        "plt.hist(survey_scores, bins=6, color='lightgreen', edgecolor='black')\n",
        "plt.title('Customer Satisfaction Distribution')\n",
        "plt.xlabel('Satisfaction Score')\n",
        "plt.ylabel('Frequency')\n",
        "plt.show()"
      ],
      "metadata": {
        "colab": {
          "base_uri": "https://localhost:8080/",
          "height": 472
        },
        "id": "vP_O8vqKMDjj",
        "outputId": "6c7fac5f-1225-4906-e09c-98a9f541dabe"
      },
      "execution_count": 38,
      "outputs": [
        {
          "output_type": "display_data",
          "data": {
            "text/plain": [
              "<Figure size 640x480 with 1 Axes>"
            ],
            "image/png": "[encoded data removed]"
          },
          "metadata": {}
        }
      ]
    }
  ]
}